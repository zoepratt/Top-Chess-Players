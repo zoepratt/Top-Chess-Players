{
 "cells": [
  {
   "cell_type": "code",
   "execution_count": 54,
   "metadata": {},
   "outputs": [],
   "source": [
    "import pandas as pd\n",
    "import os\n",
    "import os.path\n",
    "import chess\n",
    "import chess.pgn\n",
    "import numpy as np"
   ]
  },
  {
   "cell_type": "code",
   "execution_count": 34,
   "metadata": {},
   "outputs": [],
   "source": [
    "# make a list of all pgn files for one player \n",
    "inputs = []\n",
    "data = \"/Users/zoepratt/Documents/GitHub/Top-Chess-Players/data/Alekhine\"\n",
    "for file in os.listdir(data):\n",
    "    if file.endswith(\".pgn\"):\n",
    "        inputs.append(os.path.join(data, file))\n",
    " \n",
    " # concatanate all pgn files in a file called names for the player\n",
    "with open('merged_file.pgn', 'w') as outfile:\n",
    "    for fname in inputs:\n",
    "        with open(fname, encoding=\"utf-8\") as infile:\n",
    "            outfile.write(infile.read())\n",
    "            outfile.write('\\n')"
   ]
  },
  {
   "cell_type": "code",
   "execution_count": 38,
   "metadata": {},
   "outputs": [],
   "source": [
    "def extractdata(pgn):\n",
    "    '''\n",
    "    input: pgn files of player\n",
    "    output: \n",
    "        function returns step-by-step gameplay as a list\n",
    "        function returns which player is playing White as a list\n",
    "    \n",
    "    list 'side' will be used to ensure only moves made by \n",
    "    intended player will be used in creation of the GAN\n",
    "    '''\n",
    "    \n",
    "    side = []\n",
    "    game_moves = []\n",
    "    length = 30 #used for training purposes, to remove for DA servers\n",
    "    for index in range(length):\n",
    "        try:\n",
    "            if chess.pgn.read_game(pgn).mainline_moves():\n",
    "                # extracts game moves from the pgn files\n",
    "                game_moves.append(chess.pgn.read_game(pgn).mainline_moves()) \n",
    "                \n",
    "                # extracts player's name playing white from pgn files\n",
    "                side.append(chess.pgn.read_game(pgn).headers[\"White\"]) \n",
    "                \n",
    "        except:\n",
    "            print(index,chess.pgn.read_game(pgn))\n",
    "            pass\n",
    "\n",
    "    return game_moves, side"
   ]
  },
  {
   "cell_type": "code",
   "execution_count": 39,
   "metadata": {},
   "outputs": [],
   "source": [
    "def categorize_moves(game_moves, side, name):\n",
    "    '''\n",
    "    input: game_moves and side list from extractdata function\n",
    "    output:\n",
    "        function returns 2 lists, which contain all of player's move\n",
    "        list PW: player's moves when they are playing white\n",
    "        list PB: player's moves when they are playing black \n",
    "    '''\n",
    "    \n",
    "    PW = [] # empty list for all moves when player playing white\n",
    "    PB = [] # empty list for all moves when player playing black\n",
    "    \n",
    "    match = 0\n",
    "    \n",
    "    for game in game_moves:\n",
    "        board = chess.Board() # saves FEN notation of chess board\n",
    "        white = side[match]\n",
    "        if white == name:\n",
    "            identifier = 0\n",
    "        else:\n",
    "            identifier = 1\n",
    "        \n",
    "        play = 0\n",
    "        for move in game:\n",
    "            if play % 2 == identifier: # creates list PW of moves when the player is playing white\n",
    "                PW.append(board.copy())\n",
    "            board.push(move) # move game forward one move\n",
    "            if play % 2 == identifier: # creates list PB of moves when the player is playing black\n",
    "                PB.append(board.copy())\n",
    "            play = play + 1\n",
    "        match = match + 1\n",
    "    \n",
    "    return PW, PB"
   ]
  },
  {
   "cell_type": "code",
   "execution_count": 46,
   "metadata": {},
   "outputs": [],
   "source": [
    "chess_dict = {\n",
    "    'p' : [1,0,0,0,0,0,0,0,0,0,0,0,0],\n",
    "    'P' : [0,0,0,0,0,0,1,0,0,0,0,0,0],\n",
    "    'n' : [0,1,0,0,0,0,0,0,0,0,0,0,0],\n",
    "    'N' : [0,0,0,0,0,0,0,1,0,0,0,0,0],\n",
    "    'b' : [0,0,1,0,0,0,0,0,0,0,0,0,0],\n",
    "    'B' : [0,0,0,0,0,0,0,0,1,0,0,0,0],\n",
    "    'r' : [0,0,0,1,0,0,0,0,0,0,0,0,0],\n",
    "    'R' : [0,0,0,0,0,0,0,0,0,1,0,0,0],\n",
    "    'q' : [0,0,0,0,1,0,0,0,0,0,0,0,0],\n",
    "    'Q' : [0,0,0,0,0,0,0,0,0,0,1,0,0],\n",
    "    'k' : [0,0,0,0,0,1,0,0,0,0,0,0,0],\n",
    "    'K' : [0,0,0,0,0,0,0,0,0,0,0,1,0],\n",
    "    '.' : [0,0,0,0,0,0,0,0,0,0,0,0,1],\n",
    "}"
   ]
  },
  {
   "cell_type": "code",
   "execution_count": 58,
   "metadata": {},
   "outputs": [],
   "source": [
    "def make_matrix(board): \n",
    "    '''\n",
    "    input: FEN notation of a board position\n",
    "    output: matrix representing board position at a given moment\n",
    "    '''\n",
    "    \n",
    "    pgn = board.epd() # convert FEN notation of board into EPD notation\n",
    "    matrix = []  \n",
    "\n",
    "    # retrieve only the first field from EPD notation: the piece placement\n",
    "    pieces = pgn.split(\" \", 1)[0] \n",
    "    \n",
    "    # separate into placement of individual pieces\n",
    "    rows = pieces.split(\"/\")\n",
    "    \n",
    "    for row in rows:\n",
    "        piece_list = []  \n",
    "        for item in row:\n",
    "            if item.isdigit():\n",
    "                for i in range(0, int(item)):\n",
    "                    piece_list.append('.')\n",
    "            else:\n",
    "                piece_list.append(item)\n",
    "        matrix.append(piece_list)\n",
    "    return matrix"
   ]
  },
  {
   "cell_type": "code",
   "execution_count": 51,
   "metadata": {},
   "outputs": [],
   "source": [
    "def translate(matrix,chess_dict):\n",
    "    '''\n",
    "    '''\n",
    "    rows = []\n",
    "    for row in matrix:\n",
    "        terms = []\n",
    "        for term in row:\n",
    "            terms.append(chess_dict[term])\n",
    "        rows.append(terms)\n",
    "    return rows"
   ]
  },
  {
   "cell_type": "code",
   "execution_count": 56,
   "metadata": {},
   "outputs": [],
   "source": [
    "def one_hot_matrix(X, Y):\n",
    "    '''\n",
    "    '''\n",
    "    for i in range(len(X)):\n",
    "        X[i] = translate(make_matrix(X[i]),chess_dict)\n",
    "    for i in range(len(Y)):\n",
    "        Y[i] = translate(make_matrix(Y[i]),chess_dict)\n",
    "    X = np.array(X)\n",
    "    Y = np.array(Y)\n",
    "    return X, Y"
   ]
  },
  {
   "cell_type": "code",
   "execution_count": 59,
   "metadata": {},
   "outputs": [],
   "source": [
    "adams_pgn = open(\"/Users/zoepratt/Documents/GitHub/Top-Chess-Players/data/test_Adams.pgn\")\n",
    "\n",
    "def main_adams():\n",
    "    game_moves, side = extractdata(adams_pgn)\n",
    "    PW, PB = categorize_moves(game_moves, side, 'Adams, Michael')\n",
    "    X, Y = one_hot_matrix(PW, PB)\n",
    "\n",
    "main_adams()"
   ]
  }
 ],
 "metadata": {
  "kernelspec": {
   "display_name": "Python 3",
   "language": "python",
   "name": "python3"
  },
  "language_info": {
   "codemirror_mode": {
    "name": "ipython",
    "version": 3
   },
   "file_extension": ".py",
   "mimetype": "text/x-python",
   "name": "python",
   "nbconvert_exporter": "python",
   "pygments_lexer": "ipython3",
   "version": "3.8.5"
  }
 },
 "nbformat": 4,
 "nbformat_minor": 4
}
