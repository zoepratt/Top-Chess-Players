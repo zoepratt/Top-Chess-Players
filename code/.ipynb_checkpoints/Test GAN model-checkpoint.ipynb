{
 "cells": [
  {
   "cell_type": "code",
   "execution_count": 1,
   "metadata": {},
   "outputs": [],
   "source": [
    "import pandas as pd\n",
    "import os\n",
    "import os.path\n",
    "import chess\n",
    "import chess.pgn"
   ]
  },
  {
   "cell_type": "code",
   "execution_count": 11,
   "metadata": {},
   "outputs": [],
   "source": [
    "def extractdata(pgn):\n",
    "    '''\n",
    "    input: pgn files of player\n",
    "    output: \n",
    "        function returns step-by-step gameplay as a list\n",
    "        function returns which player is playing White as a list\n",
    "    \n",
    "    list 'side' will be used to ensure only moves made by \n",
    "    intended player will be used in creation of the GAN\n",
    "    '''\n",
    "    \n",
    "    side = []\n",
    "    game_moves = []\n",
    "    length = 100 #used for training purposes, to remove for DA servers\n",
    "    for index in range(length):\n",
    "        try:\n",
    "            if chess.pgn.read_game(pgn).mainline_moves():\n",
    "                # extracts game moves from the pgn files\n",
    "                game_moves.append(chess.pgn.read_game(pgn).mainline_moves()) \n",
    "                \n",
    "                # extracts player's name playing white from pgn files\n",
    "                side.append(chess.pgn.read_game(pgn).headers[\"White\"]) \n",
    "                \n",
    "        except:\n",
    "            print(index,chess.pgn.read_game(pgn))\n",
    "            pass\n",
    "\n",
    "    return game_moves, side"
   ]
  },
  {
   "cell_type": "code",
   "execution_count": 12,
   "metadata": {},
   "outputs": [],
   "source": [
    "def categorize_moves(game_moves, side, name):\n",
    "    '''\n",
    "    input: game_moves and side list from extractdata function\n",
    "    output:\n",
    "        function returns 2 lists, which contain all of player's move\n",
    "        list PW: player's moves when they are playing white\n",
    "        list PB: player's moves when they are playing black \n",
    "    '''\n",
    "    \n",
    "    PW = [] # empty list for all moves when player playing white\n",
    "    PB = [] # empty list for all moves when player playing black\n",
    "    \n",
    "    match = 0\n",
    "    \n",
    "    for game in game_moves:\n",
    "        board = chess.Board() # saves FEN notation of chess board\n",
    "        white = side[match]\n",
    "        if white == name:\n",
    "            identifier = 0\n",
    "        else:\n",
    "            identifier = 1\n",
    "        \n",
    "        play = 0\n",
    "        for move in game:\n",
    "            if play % 2 == identifier: # creates list PW of moves when the player is playing white\n",
    "                PW.append(board.copy())\n",
    "            board.push(move) # move game forward one move\n",
    "            if play % 2 == identifier: # creates list PB of moves when the player is playing black\n",
    "                PB.append(board.copy())\n",
    "            play = play + 1\n",
    "        match = match + 1\n",
    "    \n",
    "    return PW, PB"
   ]
  },
  {
   "cell_type": "code",
   "execution_count": null,
   "metadata": {},
   "outputs": [],
   "source": [
    "adams_pgn = open(\"/Users/zoepratt/Documents/GitHub/Top-Chess-Players/data/test_Adams.pgn\")\n",
    "\n",
    "def main_adams():\n",
    "    game_moves, side = extractdata(adams_pgn)\n",
    "    PW, PB = categorize_moves(game_moves, side, 'Adams, Michael')\n",
    "\n",
    "main_adams()"
   ]
  }
 ],
 "metadata": {
  "kernelspec": {
   "display_name": "Python 3",
   "language": "python",
   "name": "python3"
  },
  "language_info": {
   "codemirror_mode": {
    "name": "ipython",
    "version": 3
   },
   "file_extension": ".py",
   "mimetype": "text/x-python",
   "name": "python",
   "nbconvert_exporter": "python",
   "pygments_lexer": "ipython3",
   "version": "3.8.5"
  }
 },
 "nbformat": 4,
 "nbformat_minor": 4
}
