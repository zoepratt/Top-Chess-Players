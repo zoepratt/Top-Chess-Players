{
 "cells": [
  {
   "cell_type": "code",
   "execution_count": 58,
   "metadata": {},
   "outputs": [],
   "source": [
    "import pkg_resources\n",
    "# was running numpy version 1.19.2 which isn't compatible w/ tensorflow\n",
    "# force to run updated version of numpy\n",
    "pkg_resources.require(\"numpy==1.22.2\")  \n",
    "import numpy as np\n",
    "\n",
    "# libraries for data cleaning and preparation for model\n",
    "import os\n",
    "import os.path\n",
    "import chess\n",
    "import chess.pgn\n",
    "\n",
    "# libraries for GAN model\n",
    "\n",
    "from numpy import expand_dims\n",
    "from numpy import zeros\n",
    "from numpy import ones\n",
    "from numpy import vstack\n",
    "from numpy.random import randn\n",
    "from numpy.random import randint\n",
    "\n",
    "from keras.utils.vis_utils import plot_model\n",
    "from keras.models import Model\n",
    "from keras.layers import Input\n",
    "from keras.layers import Dense\n",
    "from keras.layers import Flatten\n",
    "from keras.layers.convolutional import Conv2D,Conv2DTranspose\n",
    "from keras.layers.pooling import MaxPooling2D\n",
    "from keras.layers.merge import concatenate\n",
    "from keras.initializers import RandomNormal\n",
    "from keras.layers import LeakyReLU\n",
    "from keras.layers import BatchNormalization\n",
    "from keras.layers import Activation,Reshape\n",
    "from tensorflow.keras.optimizers import Adam\n",
    "from keras.models import Sequential\n",
    "from keras.layers import Dropout\n",
    "from IPython.display import clear_output\n",
    "import matplotlib.pyplot as mpl"
   ]
  },
  {
   "cell_type": "code",
   "execution_count": 70,
   "metadata": {},
   "outputs": [],
   "source": [
    "def extractdata(pgn):\n",
    "    '''\n",
    "    input: pgn files of player\n",
    "    output: \n",
    "        function returns step-by-step gameplay as a list\n",
    "        function returns which player is playing White as a list\n",
    "    \n",
    "    list 'side' will be used to ensure only moves made by \n",
    "    intended player will be used in creation of the GAN\n",
    "    '''\n",
    "    \n",
    "    side = []\n",
    "    game_moves = []\n",
    "    length = 2 #used for training purposes, to remove for DA servers\n",
    "    for index in range(length):\n",
    "        try:\n",
    "            if chess.pgn.read_game(pgn).mainline_moves():\n",
    "                # extracts game moves from the pgn files\n",
    "                game_moves.append(chess.pgn.read_game(pgn).mainline_moves()) \n",
    "                \n",
    "                # extracts player's name playing white from pgn files\n",
    "                side.append(chess.pgn.read_game(pgn).headers[\"White\"]) \n",
    "                \n",
    "        except:\n",
    "            print(index,chess.pgn.read_game(pgn))\n",
    "            pass\n",
    "\n",
    "    return game_moves, side"
   ]
  },
  {
   "cell_type": "code",
   "execution_count": 89,
   "metadata": {},
   "outputs": [],
   "source": [
    "def categorize_moves(game_moves, side, name):\n",
    "    '''\n",
    "    input: game_moves and side list from extractdata function\n",
    "    output:\n",
    "        function returns 2 lists, which contain all of player's move\n",
    "        list PW: player's moves when they are playing white\n",
    "        list PB: player's moves when they are playing black \n",
    "    '''\n",
    "    \n",
    "    PW = [] # empty list for all moves when player playing white\n",
    "    PB = [] # empty list for all moves when player playing black\n",
    "    \n",
    "    match = 0\n",
    "    \n",
    "    for game in game_moves:\n",
    "        #print(game)\n",
    "        board = chess.Board() # saves FEN notation of chess board\n",
    "        white = side[match]\n",
    "        print(white)\n",
    "        if white == name:\n",
    "            identifier = 0\n",
    "        else:\n",
    "            identifier = 1\n",
    "        print(identifier)\n",
    "        play = 0\n",
    "        for move in game:\n",
    "            if play % 2 == identifier: # creates list PW of moves when the player is playing white\n",
    "                print(play % 2)\n",
    "                PW.append(board.copy())\n",
    "            #board.push(move) # move game forward one move\n",
    "            if play % 2 == identifier: # creates list PB of moves when the player is playing black\n",
    "                print('true')\n",
    "                PB.append(board.copy())\n",
    "            play = play + 1\n",
    "        match = match + 1\n",
    "    print(PW)\n",
    "    print(PB)\n",
    "    return PW, PB"
   ]
  },
  {
   "cell_type": "code",
   "execution_count": 103,
   "metadata": {},
   "outputs": [],
   "source": [
    "def categorize_moves2(game_moves, side, name):\n",
    "    '''\n",
    "    input: game_moves and side list from extractdata function\n",
    "    output:\n",
    "        function returns 2 lists, which contain all of player's move\n",
    "        list PW: player's moves when they are playing white\n",
    "        list PB: player's moves when they are playing black \n",
    "    '''\n",
    "    \n",
    "    PW = [] # empty list for all moves when player playing white\n",
    "    PB = [] # empty list for all moves when player playing black\n",
    "    \n",
    "    match = 0\n",
    "    \n",
    "    for game in game_moves:\n",
    "        print(game)\n",
    "        board = chess.Board() # saves FEN notation of chess board\n",
    "        white = side[match]\n",
    "        print(white)\n",
    "        \n",
    "        for move in game:\n",
    "            if white == name:\n",
    "                PW.append(board.copy())\n",
    "            \n",
    "            board.push(move)\n",
    "            if white != name:\n",
    "                PB.append(board.copy())\n",
    "        match = match + 1\n",
    "       \n",
    "    return PW, PB"
   ]
  },
  {
   "cell_type": "code",
   "execution_count": 61,
   "metadata": {},
   "outputs": [],
   "source": [
    "anand = open(\"/Users/zoepratt/Documents/GitHub/Top-Chess-Players/code/anand.pgn\")\n",
    "adams = open(\"/Users/zoepratt/Documents/GitHub/Top-Chess-Players/data/test_Adams.pgn\")"
   ]
  },
  {
   "cell_type": "code",
   "execution_count": 104,
   "metadata": {},
   "outputs": [
    {
     "name": "stdout",
     "output_type": "stream",
     "text": [
      "['Neiman, Emmanuel', 'Adams, Michael']\n",
      "1. e4 c5 2. Nf3 e6 3. d4 cxd4 4. Nxd4 Nc6 5. Nc3 a6 6. Nxc6 bxc6 7. Bd3 d5 8. O-O Nf6 9. Re1 Bb7 10. e5 Nd7 11. Na4 Qc7 12. Bf4 c5 13. c4 dxc4 14. Be4 Be7 15. Rc1 O-O 16. Rxc4 Bxe4 17. Rcxe4 Rfd8 18. Qc2 Nb6 19. Nxb6 Qxb6 20. Be3 Qa5 21. Ra1 Rd5 22. h3 Rad8 23. Rc1 h6 24. b3 Qb5 25. f4 Rd3 26. Kh2 Qb7 27. Qc4 Rd1 28. Rxd1 Rxd1 29. Bf2 Qb5\n",
      "Neiman, Emmanuel\n",
      "1. e4 c6 2. c4 d5 3. exd5 cxd5 4. cxd5 Nf6 5. Bb5+ Nbd7 6. Nc3 a6 7. Qa4 Rb8 8. Bxd7+ Qxd7 9. Qxd7+ Bxd7 10. d4 b5 11. a3 a5 12. Bf4 Rc8 13. Bd2 b4 14. axb4 axb4 15. Na2 Ra8 16. Bxb4 Nxd5 17. Ba3 e6 18. Ne2 Bxa3 19. Nac3 Nxc3 20. Nxc3 Ke7 21. Rxa3\n",
      "Adams, Michael\n"
     ]
    }
   ],
   "source": [
    "game_moves, side = extractdata(adams)\n",
    "print(side)\n",
    "PW, PB = categorize_moves2(game_moves, side, 'Adams, Michael')"
   ]
  },
  {
   "cell_type": "code",
   "execution_count": 105,
   "metadata": {},
   "outputs": [
    {
     "name": "stdout",
     "output_type": "stream",
     "text": [
      "[Board('rnbqkbnr/pppppppp/8/8/8/8/PPPPPPPP/RNBQKBNR w KQkq - 0 1'), Board('rnbqkbnr/pppppppp/8/8/4P3/8/PPPP1PPP/RNBQKBNR b KQkq - 0 1'), Board('rnbqkbnr/pp1ppppp/2p5/8/4P3/8/PPPP1PPP/RNBQKBNR w KQkq - 0 2'), Board('rnbqkbnr/pp1ppppp/2p5/8/2P1P3/8/PP1P1PPP/RNBQKBNR b KQkq - 0 2'), Board('rnbqkbnr/pp2pppp/2p5/3p4/2P1P3/8/PP1P1PPP/RNBQKBNR w KQkq - 0 3'), Board('rnbqkbnr/pp2pppp/2p5/3P4/2P5/8/PP1P1PPP/RNBQKBNR b KQkq - 0 3'), Board('rnbqkbnr/pp2pppp/8/3p4/2P5/8/PP1P1PPP/RNBQKBNR w KQkq - 0 4'), Board('rnbqkbnr/pp2pppp/8/3P4/8/8/PP1P1PPP/RNBQKBNR b KQkq - 0 4'), Board('rnbqkb1r/pp2pppp/5n2/3P4/8/8/PP1P1PPP/RNBQKBNR w KQkq - 1 5'), Board('rnbqkb1r/pp2pppp/5n2/1B1P4/8/8/PP1P1PPP/RNBQK1NR b KQkq - 2 5'), Board('r1bqkb1r/pp1npppp/5n2/1B1P4/8/8/PP1P1PPP/RNBQK1NR w KQkq - 3 6'), Board('r1bqkb1r/pp1npppp/5n2/1B1P4/8/2N5/PP1P1PPP/R1BQK1NR b KQkq - 4 6'), Board('r1bqkb1r/1p1npppp/p4n2/1B1P4/8/2N5/PP1P1PPP/R1BQK1NR w KQkq - 0 7'), Board('r1bqkb1r/1p1npppp/p4n2/1B1P4/Q7/2N5/PP1P1PPP/R1B1K1NR b KQkq - 1 7'), Board('1rbqkb1r/1p1npppp/p4n2/1B1P4/Q7/2N5/PP1P1PPP/R1B1K1NR w KQk - 2 8'), Board('1rbqkb1r/1p1Bpppp/p4n2/3P4/Q7/2N5/PP1P1PPP/R1B1K1NR b KQk - 0 8'), Board('1rb1kb1r/1p1qpppp/p4n2/3P4/Q7/2N5/PP1P1PPP/R1B1K1NR w KQk - 0 9'), Board('1rb1kb1r/1p1Qpppp/p4n2/3P4/8/2N5/PP1P1PPP/R1B1K1NR b KQk - 0 9'), Board('1r2kb1r/1p1bpppp/p4n2/3P4/8/2N5/PP1P1PPP/R1B1K1NR w KQk - 0 10'), Board('1r2kb1r/1p1bpppp/p4n2/3P4/3P4/2N5/PP3PPP/R1B1K1NR b KQk - 0 10'), Board('1r2kb1r/3bpppp/p4n2/1p1P4/3P4/2N5/PP3PPP/R1B1K1NR w KQk - 0 11'), Board('1r2kb1r/3bpppp/p4n2/1p1P4/3P4/P1N5/1P3PPP/R1B1K1NR b KQk - 0 11'), Board('1r2kb1r/3bpppp/5n2/pp1P4/3P4/P1N5/1P3PPP/R1B1K1NR w KQk - 0 12'), Board('1r2kb1r/3bpppp/5n2/pp1P4/3P1B2/P1N5/1P3PPP/R3K1NR b KQk - 1 12'), Board('2r1kb1r/3bpppp/5n2/pp1P4/3P1B2/P1N5/1P3PPP/R3K1NR w KQk - 2 13'), Board('2r1kb1r/3bpppp/5n2/pp1P4/3P4/P1N5/1P1B1PPP/R3K1NR b KQk - 3 13'), Board('2r1kb1r/3bpppp/5n2/p2P4/1p1P4/P1N5/1P1B1PPP/R3K1NR w KQk - 0 14'), Board('2r1kb1r/3bpppp/5n2/p2P4/1P1P4/2N5/1P1B1PPP/R3K1NR b KQk - 0 14'), Board('2r1kb1r/3bpppp/5n2/3P4/1p1P4/2N5/1P1B1PPP/R3K1NR w KQk - 0 15'), Board('2r1kb1r/3bpppp/5n2/3P4/1p1P4/8/NP1B1PPP/R3K1NR b KQk - 1 15'), Board('r3kb1r/3bpppp/5n2/3P4/1p1P4/8/NP1B1PPP/R3K1NR w KQk - 2 16'), Board('r3kb1r/3bpppp/5n2/3P4/1B1P4/8/NP3PPP/R3K1NR b KQk - 0 16'), Board('r3kb1r/3bpppp/8/3n4/1B1P4/8/NP3PPP/R3K1NR w KQk - 0 17'), Board('r3kb1r/3bpppp/8/3n4/3P4/B7/NP3PPP/R3K1NR b KQk - 1 17'), Board('r3kb1r/3b1ppp/4p3/3n4/3P4/B7/NP3PPP/R3K1NR w KQk - 0 18'), Board('r3kb1r/3b1ppp/4p3/3n4/3P4/B7/NP2NPPP/R3K2R b KQk - 1 18'), Board('r3k2r/3b1ppp/4p3/3n4/3P4/b7/NP2NPPP/R3K2R w KQk - 0 19'), Board('r3k2r/3b1ppp/4p3/3n4/3P4/b1N5/1P2NPPP/R3K2R b KQk - 1 19'), Board('r3k2r/3b1ppp/4p3/8/3P4/b1n5/1P2NPPP/R3K2R w KQk - 0 20'), Board('r3k2r/3b1ppp/4p3/8/3P4/b1N5/1P3PPP/R3K2R b KQk - 0 20'), Board('r6r/3bkppp/4p3/8/3P4/b1N5/1P3PPP/R3K2R w KQ - 1 21')]\n"
     ]
    }
   ],
   "source": [
    "print(PW)"
   ]
  },
  {
   "cell_type": "code",
   "execution_count": 91,
   "metadata": {},
   "outputs": [
    {
     "data": {
      "text/plain": [
       "0"
      ]
     },
     "execution_count": 91,
     "metadata": {},
     "output_type": "execute_result"
    }
   ],
   "source": [
    "0 % 2"
   ]
  },
  {
   "cell_type": "code",
   "execution_count": 92,
   "metadata": {},
   "outputs": [
    {
     "data": {
      "text/plain": [
       "1"
      ]
     },
     "execution_count": 92,
     "metadata": {},
     "output_type": "execute_result"
    }
   ],
   "source": [
    "1 % 2"
   ]
  }
 ],
 "metadata": {
  "kernelspec": {
   "display_name": "Python 3",
   "language": "python",
   "name": "python3"
  },
  "language_info": {
   "codemirror_mode": {
    "name": "ipython",
    "version": 3
   },
   "file_extension": ".py",
   "mimetype": "text/x-python",
   "name": "python",
   "nbconvert_exporter": "python",
   "pygments_lexer": "ipython3",
   "version": "3.8.5"
  }
 },
 "nbformat": 4,
 "nbformat_minor": 4
}
