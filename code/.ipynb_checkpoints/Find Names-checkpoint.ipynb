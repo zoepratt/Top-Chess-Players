{
 "cells": [
  {
   "cell_type": "code",
   "execution_count": 1,
   "metadata": {},
   "outputs": [],
   "source": [
    "import os\n",
    "import os.path\n",
    "import chess\n",
    "import chess.pgn"
   ]
  },
  {
   "cell_type": "code",
   "execution_count": 17,
   "metadata": {},
   "outputs": [],
   "source": [
    "def unique_names(pgn_path, name):\n",
    "    '''\n",
    "    input: pgn files of player, last name of player\n",
    "    output: \n",
    "        function returns list of how the player's name is written in the PGN files\n",
    "        ex. ['Carlsen, M.', 'Carlsen Magnus (NOR)', 'Carlsen, Magnus', 'Magnus Carlsen']\n",
    "        used as input in later function in creation of GAN model\n",
    "    '''\n",
    "    \n",
    "    pgn = open(pgn_path, encoding='utf-8')\n",
    "    \n",
    "    versions = []\n",
    "    while True:\n",
    "        try:\n",
    "            this_game = chess.pgn.read_game(pgn)\n",
    "            white = this_game.headers[\"White\"]\n",
    "            black = this_game.headers[\"Black\"]\n",
    "            \n",
    "            # append player's name containing intended player\n",
    "            if name in white:\n",
    "                versions.append(white)\n",
    "            if name in black:\n",
    "                versions.append(black)\n",
    "        except:\n",
    "            break\n",
    "    \n",
    "    # remove duplicates from the list\n",
    "    unique = list(dict.fromkeys(versions))\n",
    "    return unique"
   ]
  },
  {
   "cell_type": "code",
   "execution_count": 18,
   "metadata": {},
   "outputs": [],
   "source": [
    "alekhine = \"/Users/zoepratt/Documents/GitHub/Top-Chess-Players/code/alekhine.pgn\"\n",
    "anand = \"/Users/zoepratt/Documents/GitHub/Top-Chess-Players/code/anand.pgn\"\n",
    "carlsen = \"/Users/zoepratt/Documents/GitHub/Top-Chess-Players/code/carlsen.pgn\"\n",
    "caruana = \"/Users/zoepratt/Documents/GitHub/Top-Chess-Players/code/caruana.pgn\"\n",
    "kasparov = \"/Users/zoepratt/Documents/GitHub/Top-Chess-Players/code/kasparov.pgn\"\n",
    "nakamura = \"/Users/zoepratt/Documents/GitHub/Top-Chess-Players/code/nakamura.pgn\"\n",
    "polgar = \"/Users/zoepratt/Documents/GitHub/Top-Chess-Players/code/polgar.pgn\"\n",
    "tal = \"/Users/zoepratt/Documents/GitHub/Top-Chess-Players/code/tal.pgn\""
   ]
  },
  {
   "cell_type": "code",
   "execution_count": 20,
   "metadata": {},
   "outputs": [
    {
     "name": "stdout",
     "output_type": "stream",
     "text": [
      "done\n",
      "done\n",
      "done\n",
      "done\n",
      "done\n",
      "done\n",
      "done\n",
      "done\n"
     ]
    }
   ],
   "source": [
    "al_names = unique_names(alekhine, \"Alekhine\")\n",
    "print('done')\n",
    "an_names = unique_names(anand, 'Anand')\n",
    "print('done')\n",
    "carl_names = unique_names(carlsen, 'Carlsen')\n",
    "print('done')\n",
    "caru_names = unique_names(caruana, 'Caruana')\n",
    "print('done')\n",
    "kas_names = unique_names(kasparov, 'Kasparov')\n",
    "print('done')\n",
    "na_names = unique_names(nakamura, 'Nakamura')\n",
    "print('done')\n",
    "pol_names = unique_names(polgar, 'Polgar')\n",
    "print('done')\n",
    "tal_names = unique_names(tal, 'Tal')\n",
    "print('done')"
   ]
  },
  {
   "cell_type": "code",
   "execution_count": 21,
   "metadata": {},
   "outputs": [
    {
     "name": "stdout",
     "output_type": "stream",
     "text": [
      "['Alekhine Alexander A (RUS)']\n"
     ]
    }
   ],
   "source": [
    "print(al_names)"
   ]
  },
  {
   "cell_type": "code",
   "execution_count": 22,
   "metadata": {},
   "outputs": [
    {
     "name": "stdout",
     "output_type": "stream",
     "text": [
      "['Anand Viswanathan (IND)', 'Anand, V.', 'Anand, Viswanathan']\n"
     ]
    }
   ],
   "source": [
    "print(an_names)"
   ]
  },
  {
   "cell_type": "code",
   "execution_count": 23,
   "metadata": {},
   "outputs": [
    {
     "name": "stdout",
     "output_type": "stream",
     "text": [
      "['Carlsen, M.', 'Carlsen Magnus (NOR)', 'Carlsen, Magnus', 'Magnus Carlsen']\n"
     ]
    }
   ],
   "source": [
    "print(carl_names)"
   ]
  },
  {
   "cell_type": "code",
   "execution_count": 24,
   "metadata": {},
   "outputs": [
    {
     "name": "stdout",
     "output_type": "stream",
     "text": [
      "['Caruana, F.', 'Caruana Fabiano (ITA)', 'Caruana Fabiano (USA)', 'Caruana, Fabiano']\n"
     ]
    }
   ],
   "source": [
    "print(caru_names)"
   ]
  },
  {
   "cell_type": "code",
   "execution_count": 25,
   "metadata": {},
   "outputs": [
    {
     "name": "stdout",
     "output_type": "stream",
     "text": [
      "['Kasparov Garry (RUS)', 'Kasparov, G.']\n"
     ]
    }
   ],
   "source": [
    "print(kas_names)"
   ]
  },
  {
   "cell_type": "code",
   "execution_count": 26,
   "metadata": {},
   "outputs": [
    {
     "name": "stdout",
     "output_type": "stream",
     "text": [
      "['Nakamura, Hi', 'Nakamura Hikaru (USA)', 'Nakamura, H.', 'Nakamura, Hikaru']\n"
     ]
    }
   ],
   "source": [
    "print(na_names)"
   ]
  },
  {
   "cell_type": "code",
   "execution_count": 27,
   "metadata": {},
   "outputs": [
    {
     "name": "stdout",
     "output_type": "stream",
     "text": [
      "['Polgar, Ju', 'Polgar Judit (HUN)', 'Polgar Zsuzsa (USA)', 'Polgar Sofia (HUN)', 'Polgar, S.']\n"
     ]
    }
   ],
   "source": [
    "print(pol_names)"
   ]
  },
  {
   "cell_type": "code",
   "execution_count": 28,
   "metadata": {},
   "outputs": [
    {
     "name": "stdout",
     "output_type": "stream",
     "text": [
      "['Tal Mikhail (LAT)', 'Tal Mikhail N (LAT)']\n"
     ]
    }
   ],
   "source": [
    "print(tal_names)"
   ]
  }
 ],
 "metadata": {
  "kernelspec": {
   "display_name": "Python 3",
   "language": "python",
   "name": "python3"
  },
  "language_info": {
   "codemirror_mode": {
    "name": "ipython",
    "version": 3
   },
   "file_extension": ".py",
   "mimetype": "text/x-python",
   "name": "python",
   "nbconvert_exporter": "python",
   "pygments_lexer": "ipython3",
   "version": "3.8.5"
  }
 },
 "nbformat": 4,
 "nbformat_minor": 4
}
