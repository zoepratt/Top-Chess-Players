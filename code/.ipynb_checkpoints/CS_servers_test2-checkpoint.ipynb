{
 "cells": [
  {
   "cell_type": "code",
   "execution_count": null,
   "metadata": {},
   "outputs": [],
   "source": [
    "import pkg_resources\n",
    "# was running numpy version 1.19.2 which isn't compatible w/ tensorflow\n",
    "# force to run updated version of numpy\n",
    "#pkg_resources.require(\"numpy==1.22.2\")  \n",
    "import numpy as np\n",
    "\n",
    "# libraries for data cleaning and preparation for model\n",
    "import os\n",
    "import os.path\n",
    "import chess\n",
    "import chess.pgn\n",
    "\n",
    "# libraries for visuals\n",
    "import matplotlib.pyplot as mpl\n",
    "import pydot\n",
    "import pydotplus\n",
    "import graphviz"
   ]
  },
  {
   "cell_type": "code",
   "execution_count": null,
   "metadata": {},
   "outputs": [],
   "source": [
    "def extractdata(pgn_path):\n",
    "    '''\n",
    "    input: pgn files of player\n",
    "    output: \n",
    "        function returns step-by-step gameplay as a list\n",
    "        function returns which player is playing White as a list\n",
    "    \n",
    "    list 'side' will be used to ensure only moves made by \n",
    "    intended player will be used in creation of the GAN\n",
    "    '''\n",
    "    \n",
    "    pgn = open(pgn_path, encoding='utf-8')\n",
    "    \n",
    "    side = []\n",
    "    game_moves = []\n",
    "    while True:\n",
    "        try:\n",
    "            this_game = chess.pgn.read_game(pgn)\n",
    "            game_moves.append(this_game.mainline_moves()) \n",
    "            side.append(this_game.headers[\"White\"]) \n",
    "        except:\n",
    "            break\n",
    "\n",
    "    return game_moves, side"
   ]
  },
  {
   "cell_type": "code",
   "execution_count": null,
   "metadata": {},
   "outputs": [],
   "source": [
    "alekhine = \"/Volumes/Users/pratt_z1/Documents/GitHub/Top-Chess-Players/code/alekhine.pgn\"\n",
    "anand = \"/Volumes/Users/pratt_z1/Documents/GitHub/Top-Chess-Players/code/anand.pgn\"\n",
    "carlsen = \"/Volumes/Users/pratt_z1/Documents/GitHub/Top-Chess-Players/code/carlsen.pgn\"\n",
    "caruana = \"/Volumes/Users/pratt_z1/Documents/GitHub/Top-Chess-Players/code/caruana.pgn\"\n",
    "kasparov = \"/Volumes/Users/pratt_z1/Documents/GitHub/Top-Chess-Players/code/kasparov.pgn\"\n",
    "nakamura = \"/Volumes/Users/pratt_z1/Documents/GitHub/Top-Chess-Players/code/nakamura.pgn\"\n",
    "polgar = \"/Volumes/Users/pratt_z1/Documents/GitHub/Top-Chess-Players/code/polgar.pgn\"\n",
    "tal = \"/Volumes/Users/pratt_z1/Documents/GitHub/Top-Chess-Players/code/tal.pgn\""
   ]
  },
  {
   "cell_type": "code",
   "execution_count": null,
   "metadata": {},
   "outputs": [],
   "source": [
    "game_moves1, side1 = extractdata(alekhine)\n",
    "print('al done')\n",
    "game_moves2, side2 = extractdata(anand)\n",
    "print('an done')\n",
    "game_moves3, side3 = extractdata(carlsen)\n",
    "print('carl done')\n",
    "game_moves4, side4 = extractdata(caruana)\n",
    "print('caru done')\n",
    "game_moves5, side5 = extractdata(kasparov)\n",
    "print('kas done')\n",
    "game_moves6, side6 = extractdata(nakamura)\n",
    "print('nak done')\n",
    "game_moves7, side7 = extractdata(polgar)\n",
    "print('pol done')\n",
    "game_moves8, side8 = extractdata(tal)\n",
    "print('tal done')"
   ]
  }
 ],
 "metadata": {
  "kernelspec": {
   "display_name": "Python 3",
   "language": "python",
   "name": "python3"
  },
  "language_info": {
   "codemirror_mode": {
    "name": "ipython",
    "version": 3
   },
   "file_extension": ".py",
   "mimetype": "text/x-python",
   "name": "python",
   "nbconvert_exporter": "python",
   "pygments_lexer": "ipython3",
   "version": "3.8.5"
  }
 },
 "nbformat": 4,
 "nbformat_minor": 4
}
