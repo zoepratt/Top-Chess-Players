{
 "cells": [
  {
   "cell_type": "code",
   "execution_count": 9,
   "metadata": {},
   "outputs": [],
   "source": [
    "import os\n",
    "import os.path"
   ]
  },
  {
   "cell_type": "code",
   "execution_count": 10,
   "metadata": {},
   "outputs": [],
   "source": [
    "# file paths for folders of PGN game files\n",
    "alekhine = \"/Users/zoepratt/Documents/GitHub/Top-Chess-Players/data/Raw_game/Raw_game/Alekhine\"\n",
    "anand = \"/Users/zoepratt/Documents/GitHub/Top-Chess-Players/data/Raw_game/Raw_game/Anand\"\n",
    "botvinnik = \"/Users/zoepratt/Documents/GitHub/Top-Chess-Players/data/Raw_game/Raw_game/Botvinnik\"\n",
    "capablanca = \"/Users/zoepratt/Documents/GitHub/Top-Chess-Players/data/Raw_game/Raw_game/Capablanca\"\n",
    "caruana = \"/Users/zoepratt/Documents/GitHub/Top-Chess-Players/data/Raw_game/Raw_game/Caruana\"\n",
    "fischer = \"/Users/zoepratt/Documents/GitHub/Top-Chess-Players/data/Raw_game/Raw_game/Fischer\"\n",
    "carlsen = \"/Users/zoepratt/Documents/GitHub/Top-Chess-Players/data/Raw_game/Raw_game/Carlsen\"\n",
    "kasparov = \"/Users/zoepratt/Documents/GitHub/Top-Chess-Players/data/Raw_game/Raw_game/Kasparov\"\n",
    "morphy = \"/Users/zoepratt/Documents/GitHub/Top-Chess-Players/data/Raw_game/Raw_game/Morphy\"\n",
    "nakamura = \"/Users/zoepratt/Documents/GitHub/Top-Chess-Players/data/Raw_game/Raw_game/Nakamura\"\n",
    "polgar = \"/Users/zoepratt/Documents/GitHub/Top-Chess-Players/data/Raw_game/Raw_game/Polgar\"\n",
    "tal = \"/Users/zoepratt/Documents/GitHub/Top-Chess-Players/data/Raw_game/Raw_game/Tal\""
   ]
  },
  {
   "cell_type": "code",
   "execution_count": 11,
   "metadata": {},
   "outputs": [],
   "source": [
    "def combine_pgns(data, newfile):    \n",
    "    '''\n",
    "    function combines all pgn files in a player's folder into one file\n",
    "    delimiter is '---'\n",
    "    \n",
    "    inputs: folder of exiting pgn files, name of new file\n",
    "    '''\n",
    "    inputs = []\n",
    "    for file in os.listdir(data):\n",
    "        if file.endswith(\".pgn\"):\n",
    "            inputs.append(os.path.join(data, file))\n",
    "\n",
    "     # concatanate all pgn files in a file called names for the player\n",
    "    with open(newfile, 'w') as outfile:\n",
    "        for fname in inputs:\n",
    "            with open(fname) as infile:\n",
    "                outfile.write(infile.read())\n",
    "                outfile.write('---')"
   ]
  },
  {
   "cell_type": "code",
   "execution_count": 12,
   "metadata": {},
   "outputs": [],
   "source": [
    "combine_pgns(alekhine, 'alekhine.pgn')\n",
    "combine_pgns(anand, 'anand.pgn')\n",
    "combine_pgns(botvinnik, 'botvinnik.pgn')\n",
    "combine_pgns(capablanca, 'capablanca.pgn')\n",
    "combine_pgns(caruana, 'caruana.pgn')\n",
    "combine_pgns(fischer, 'fischer.pgn')\n",
    "combine_pgns(carlsen, 'carlsen.pgn')\n",
    "combine_pgns(kasparov, 'kasparov.pgn')\n",
    "combine_pgns(morphy, 'morphy.pgn')\n",
    "combine_pgns(nakamura, 'nakamura.pgn')\n",
    "combine_pgns(polgar, 'polgar.pgn')\n",
    "combine_pgns(tal, 'tal.pgn')\n",
    "\n",
    "print('done')"
   ]
  }
 ],
 "metadata": {
  "kernelspec": {
   "display_name": "Python 3",
   "language": "python",
   "name": "python3"
  },
  "language_info": {
   "codemirror_mode": {
    "name": "ipython",
    "version": 3
   },
   "file_extension": ".py",
   "mimetype": "text/x-python",
   "name": "python",
   "nbconvert_exporter": "python",
   "pygments_lexer": "ipython3",
   "version": "3.8.5"
  }
 },
 "nbformat": 4,
 "nbformat_minor": 4
}
